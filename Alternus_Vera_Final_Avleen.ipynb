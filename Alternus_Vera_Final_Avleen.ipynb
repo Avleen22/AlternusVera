{
 "cells": [
  {
   "cell_type": "markdown",
   "metadata": {},
   "source": [
    "## Alternus Vera Final Notebook"
   ]
  },
  {
   "cell_type": "markdown",
   "metadata": {},
   "source": [
    "###  By - Avleen Singh Khanuja - ML Learners"
   ]
  },
  {
   "cell_type": "markdown",
   "metadata": {},
   "source": [
    "#### Fake News Detection by performing \"DISTILLATION\" on the LIAR DATASET."
   ]
  },
  {
   "cell_type": "markdown",
   "metadata": {},
   "source": [
    "Steps for performing Distillation:\n",
    "    1. Data Preprocessing - Tokenization, Stemming, Lemmatization, Removal of Punctuation MArks, etc.\n",
    "    2. Sentiment Analysis\n",
    "    3. Latent Dirichlet Allocation (LDA) - Topic Modeling\n",
    "    4. TF-IDF Vectorizer - Feature Extraction & Vector Conversion\n",
    "    5. Random Forest Classifier  - For evaluation of a Factor"
   ]
  },
  {
   "cell_type": "markdown",
   "metadata": {},
   "source": [
    "#### Data Loading"
   ]
  },
  {
   "cell_type": "code",
   "execution_count": 403,
   "metadata": {},
   "outputs": [],
   "source": [
    "import pandas as pd\n",
    "data= pd.read_csv('liar_dataset/train_liar.csv', error_bad_lines=False, sep=\",\", names = ['ID','Label','Statement','Subject','Speaker','Speakers Job Title','State Info','Party Affiliation','Barely True Counts','False Counts',' Half True Counts','Mostly True Counts','Pants On Fire Counts','The Context'])"
   ]
  },
  {
   "cell_type": "code",
   "execution_count": 404,
   "metadata": {},
   "outputs": [
    {
     "data": {
      "text/html": [
       "<div>\n",
       "<style scoped>\n",
       "    .dataframe tbody tr th:only-of-type {\n",
       "        vertical-align: middle;\n",
       "    }\n",
       "\n",
       "    .dataframe tbody tr th {\n",
       "        vertical-align: top;\n",
       "    }\n",
       "\n",
       "    .dataframe thead th {\n",
       "        text-align: right;\n",
       "    }\n",
       "</style>\n",
       "<table border=\"1\" class=\"dataframe\">\n",
       "  <thead>\n",
       "    <tr style=\"text-align: right;\">\n",
       "      <th></th>\n",
       "      <th>Barely True Counts</th>\n",
       "      <th>False Counts</th>\n",
       "      <th>Half True Counts</th>\n",
       "      <th>Mostly True Counts</th>\n",
       "      <th>Pants On Fire Counts</th>\n",
       "    </tr>\n",
       "  </thead>\n",
       "  <tbody>\n",
       "    <tr>\n",
       "      <th>count</th>\n",
       "      <td>10263.000000</td>\n",
       "      <td>10263.000000</td>\n",
       "      <td>10263.000000</td>\n",
       "      <td>10263.000000</td>\n",
       "      <td>10263.000000</td>\n",
       "    </tr>\n",
       "    <tr>\n",
       "      <th>mean</th>\n",
       "      <td>11.549839</td>\n",
       "      <td>13.304394</td>\n",
       "      <td>17.168762</td>\n",
       "      <td>16.465166</td>\n",
       "      <td>6.202670</td>\n",
       "    </tr>\n",
       "    <tr>\n",
       "      <th>std</th>\n",
       "      <td>18.992224</td>\n",
       "      <td>24.132578</td>\n",
       "      <td>35.899983</td>\n",
       "      <td>36.202646</td>\n",
       "      <td>16.121555</td>\n",
       "    </tr>\n",
       "    <tr>\n",
       "      <th>min</th>\n",
       "      <td>0.000000</td>\n",
       "      <td>0.000000</td>\n",
       "      <td>0.000000</td>\n",
       "      <td>0.000000</td>\n",
       "      <td>0.000000</td>\n",
       "    </tr>\n",
       "    <tr>\n",
       "      <th>25%</th>\n",
       "      <td>0.000000</td>\n",
       "      <td>0.000000</td>\n",
       "      <td>0.000000</td>\n",
       "      <td>0.000000</td>\n",
       "      <td>0.000000</td>\n",
       "    </tr>\n",
       "    <tr>\n",
       "      <th>50%</th>\n",
       "      <td>2.000000</td>\n",
       "      <td>2.000000</td>\n",
       "      <td>3.000000</td>\n",
       "      <td>3.000000</td>\n",
       "      <td>1.000000</td>\n",
       "    </tr>\n",
       "    <tr>\n",
       "      <th>75%</th>\n",
       "      <td>12.000000</td>\n",
       "      <td>15.000000</td>\n",
       "      <td>13.000000</td>\n",
       "      <td>11.000000</td>\n",
       "      <td>5.000000</td>\n",
       "    </tr>\n",
       "    <tr>\n",
       "      <th>max</th>\n",
       "      <td>70.000000</td>\n",
       "      <td>114.000000</td>\n",
       "      <td>160.000000</td>\n",
       "      <td>163.000000</td>\n",
       "      <td>105.000000</td>\n",
       "    </tr>\n",
       "  </tbody>\n",
       "</table>\n",
       "</div>"
      ],
      "text/plain": [
       "       Barely True Counts  False Counts   Half True Counts  \\\n",
       "count        10263.000000  10263.000000       10263.000000   \n",
       "mean            11.549839     13.304394          17.168762   \n",
       "std             18.992224     24.132578          35.899983   \n",
       "min              0.000000      0.000000           0.000000   \n",
       "25%              0.000000      0.000000           0.000000   \n",
       "50%              2.000000      2.000000           3.000000   \n",
       "75%             12.000000     15.000000          13.000000   \n",
       "max             70.000000    114.000000         160.000000   \n",
       "\n",
       "       Mostly True Counts  Pants On Fire Counts  \n",
       "count        10263.000000          10263.000000  \n",
       "mean            16.465166              6.202670  \n",
       "std             36.202646             16.121555  \n",
       "min              0.000000              0.000000  \n",
       "25%              0.000000              0.000000  \n",
       "50%              3.000000              1.000000  \n",
       "75%             11.000000              5.000000  \n",
       "max            163.000000            105.000000  "
      ]
     },
     "execution_count": 404,
     "metadata": {},
     "output_type": "execute_result"
    }
   ],
   "source": [
    "data.describe()"
   ]
  },
  {
   "cell_type": "markdown",
   "metadata": {},
   "source": [
    "#### Cleaning the Data"
   ]
  },
  {
   "cell_type": "code",
   "execution_count": 405,
   "metadata": {},
   "outputs": [
    {
     "data": {
      "text/plain": [
       "True"
      ]
     },
     "execution_count": 405,
     "metadata": {},
     "output_type": "execute_result"
    }
   ],
   "source": [
    "data.isnull().values.any()"
   ]
  },
  {
   "cell_type": "code",
   "execution_count": 406,
   "metadata": {},
   "outputs": [],
   "source": [
    "null_columns=data.columns[data.isnull().any()]"
   ]
  },
  {
   "cell_type": "code",
   "execution_count": 407,
   "metadata": {},
   "outputs": [
    {
     "data": {
      "text/plain": [
       "Index(['Subject', 'Speaker', 'Speakers Job Title', 'State Info',\n",
       "       'Party Affiliation', 'Barely True Counts', 'False Counts',\n",
       "       ' Half True Counts', 'Mostly True Counts', 'Pants On Fire Counts',\n",
       "       'The Context'],\n",
       "      dtype='object')"
      ]
     },
     "execution_count": 407,
     "metadata": {},
     "output_type": "execute_result"
    }
   ],
   "source": [
    "null_columns"
   ]
  },
  {
   "cell_type": "code",
   "execution_count": 408,
   "metadata": {},
   "outputs": [],
   "source": [
    "data = data.replace(np.nan, 'NA', regex=True)"
   ]
  },
  {
   "cell_type": "code",
   "execution_count": 409,
   "metadata": {},
   "outputs": [
    {
     "data": {
      "text/plain": [
       "False"
      ]
     },
     "execution_count": 409,
     "metadata": {},
     "output_type": "execute_result"
    }
   ],
   "source": [
    "data.isnull().values.any()"
   ]
  },
  {
   "cell_type": "code",
   "execution_count": 410,
   "metadata": {},
   "outputs": [
    {
     "data": {
      "text/plain": [
       "(10269, 14)"
      ]
     },
     "execution_count": 410,
     "metadata": {},
     "output_type": "execute_result"
    }
   ],
   "source": [
    "data.shape"
   ]
  },
  {
   "cell_type": "markdown",
   "metadata": {},
   "source": [
    "#### Separating the Text data from dataset and storing it as a List of Documents"
   ]
  },
  {
   "cell_type": "code",
   "execution_count": 411,
   "metadata": {},
   "outputs": [
    {
     "name": "stderr",
     "output_type": "stream",
     "text": [
      "C:\\ProgramData\\Anaconda3\\lib\\site-packages\\ipykernel_launcher.py:2: SettingWithCopyWarning: \n",
      "A value is trying to be set on a copy of a slice from a DataFrame.\n",
      "Try using .loc[row_indexer,col_indexer] = value instead\n",
      "\n",
      "See the caveats in the documentation: http://pandas.pydata.org/pandas-docs/stable/indexing.html#indexing-view-versus-copy\n",
      "  \n"
     ]
    }
   ],
   "source": [
    "data_text = data[['Statement']]\n",
    "data_text['index'] = data_text.index\n",
    "documents = data_text"
   ]
  },
  {
   "cell_type": "markdown",
   "metadata": {},
   "source": [
    "#### Printing Length of documents"
   ]
  },
  {
   "cell_type": "code",
   "execution_count": 412,
   "metadata": {},
   "outputs": [
    {
     "name": "stdout",
     "output_type": "stream",
     "text": [
      "10269\n",
      "                                           Statement  index\n",
      "0  Says the Annies List political group supports ...      0\n",
      "1  When did the decline of coal start? It started...      1\n",
      "2  Hillary Clinton agrees with John McCain \"by vo...      2\n",
      "3  Health care reform legislation is likely to ma...      3\n",
      "4  The economic turnaround started at the end of ...      4\n"
     ]
    }
   ],
   "source": [
    "print(len(documents))\n",
    "print(documents[:5])"
   ]
  },
  {
   "cell_type": "markdown",
   "metadata": {},
   "source": [
    "#### Stemming, Lemmatizing & Tokeninzing"
   ]
  },
  {
   "cell_type": "markdown",
   "metadata": {},
   "source": [
    "The data preprocessing step consists of further 3 more steps:\n",
    "\n",
    "1. Tokenizing : Cleaning the data to break the text we have in the Statement column into sentences and sentences further into words. Then, convert all uppercase words to lowercase to achieve standardization and remove punctuation to avoid unnecessary barriers.\n",
    "\n",
    "2. Stopwords: Removed stop words using a function by first creating a dictionary of stopwords after identifying them and then looping over the documents to check the presence of stopwords and remove them.\n",
    "\n",
    "3. Word shortening: The words with less than three characters are removed.\n",
    "\n",
    "4. Lemmatization: Changed the speech of words from third person to first person and also verbs in past and future tense converted to present tense.\n",
    "\n",
    "5. Stemming: Used Snowball Stemmer library to reduce words to their roots."
   ]
  },
  {
   "cell_type": "markdown",
   "metadata": {},
   "source": [
    "#### Loading gensim and nltk libraries"
   ]
  },
  {
   "cell_type": "code",
   "execution_count": 413,
   "metadata": {},
   "outputs": [
    {
     "name": "stdout",
     "output_type": "stream",
     "text": [
      "[nltk_data] Downloading package wordnet to\n",
      "[nltk_data]     C:\\Users\\rashmeet\\AppData\\Roaming\\nltk_data...\n",
      "[nltk_data]   Package wordnet is already up-to-date!\n"
     ]
    },
    {
     "data": {
      "text/plain": [
       "True"
      ]
     },
     "execution_count": 413,
     "metadata": {},
     "output_type": "execute_result"
    }
   ],
   "source": [
    "import gensim\n",
    "from gensim.utils import simple_preprocess\n",
    "from gensim.parsing.preprocessing import STOPWORDS\n",
    "from nltk.stem import WordNetLemmatizer, SnowballStemmer\n",
    "from nltk.stem.porter import *\n",
    "import numpy as np\n",
    "np.random.seed(2018)\n",
    "import nltk\n",
    "nltk.download('wordnet')"
   ]
  },
  {
   "cell_type": "markdown",
   "metadata": {},
   "source": [
    "#### Tokenization, Lemmatizing and Stemming Preprocessing via Function"
   ]
  },
  {
   "cell_type": "code",
   "execution_count": 414,
   "metadata": {},
   "outputs": [],
   "source": [
    "def lemmatize_stemming(text):\n",
    "    stemmer = SnowballStemmer(\"english\")\n",
    "    return stemmer.stem(WordNetLemmatizer().lemmatize(text, pos='v'))\n",
    "def preprocess(text):\n",
    "    result = []\n",
    "    for token in gensim.utils.simple_preprocess(text):\n",
    "        if token not in gensim.parsing.preprocessing.STOPWORDS and len(token) > 3:\n",
    "            result.append(lemmatize_stemming(token))\n",
    "    return result"
   ]
  },
  {
   "cell_type": "markdown",
   "metadata": {},
   "source": [
    "#### Document preview after preprocessing"
   ]
  },
  {
   "cell_type": "code",
   "execution_count": 415,
   "metadata": {},
   "outputs": [
    {
     "name": "stdout",
     "output_type": "stream",
     "text": [
      "original document: \n",
      "['Says', 'state', 'Sen.', 'Morgan', 'Carrolls', 'votes', 'made', 'it', 'easier', 'to', 'sue', 'doctors,', 'small', 'businesses,', 'even', 'nurses.', 'Putting', 'her', 'own', 'shady', 'interests', 'first.']\n",
      "\n",
      "\n",
      " tokenized and lemmatized document: \n",
      "['say', 'state', 'morgan', 'carrol', 'vote', 'easier', 'doctor', 'small', 'busi', 'nurs', 'put', 'shadi', 'interest']\n"
     ]
    }
   ],
   "source": [
    "doc_sample = documents[documents['index'] == 4310].values[0][0]\n",
    "print('original document: ')\n",
    "words = []\n",
    "for word in doc_sample.split(' '):\n",
    "    words.append(word)\n",
    "print(words)\n",
    "print('\\n\\n tokenized and lemmatized document: ')\n",
    "print(preprocess(doc_sample))"
   ]
  },
  {
   "cell_type": "code",
   "execution_count": 416,
   "metadata": {},
   "outputs": [
    {
     "data": {
      "text/plain": [
       "0    [say, anni, list, polit, group, support, trime...\n",
       "1    [declin, coal, start, start, natur, take, star...\n",
       "2    [hillari, clinton, agre, john, mccain, vote, g...\n",
       "3    [health, care, reform, legisl, like, mandat, f...\n",
       "4                    [econom, turnaround, start, term]\n",
       "5    [chicago, bear, start, quarterback, year, tota...\n",
       "6               [dunnam, live, district, repres, year]\n",
       "7    [person, stage, work, activ, year, pass, russ,...\n",
       "8    [take, million, oregon, lotteri, fund, port, n...\n",
       "9    [say, primari, oppon, glenn, grothman, leibham...\n",
       "Name: Statement, dtype: object"
      ]
     },
     "execution_count": 416,
     "metadata": {},
     "output_type": "execute_result"
    }
   ],
   "source": [
    "processed_docs = documents['Statement'].map(preprocess)\n",
    "processed_docs[:10]"
   ]
  },
  {
   "cell_type": "markdown",
   "metadata": {},
   "source": [
    "#### Imports for Sentiment Analysis"
   ]
  },
  {
   "cell_type": "code",
   "execution_count": 417,
   "metadata": {},
   "outputs": [],
   "source": [
    "import nltk.classify.util\n",
    "from nltk.classify import NaiveBayesClassifier\n",
    "from nltk.corpus import stopwords\n",
    "from nltk.tokenize import word_tokenize"
   ]
  },
  {
   "cell_type": "markdown",
   "metadata": {},
   "source": [
    "#### Creation of Word Features to be fed to Naive Base Classifier - DATA PREPERATION"
   ]
  },
  {
   "cell_type": "code",
   "execution_count": 418,
   "metadata": {},
   "outputs": [],
   "source": [
    "# This is how the Naive Bayes classifier expects the input\n",
    "def create_word_features(words):\n",
    "    useful_words = [word for word in words if word not in stopwords.words(\"english\")]\n",
    "    my_dict = dict([(word, True) for word in useful_words])\n",
    "    return my_dict"
   ]
  },
  {
   "cell_type": "code",
   "execution_count": 419,
   "metadata": {},
   "outputs": [],
   "source": [
    "data['Label'] = pd.Series(data['Label'])"
   ]
  },
  {
   "cell_type": "markdown",
   "metadata": {},
   "source": [
    "#### Data Slicing"
   ]
  },
  {
   "cell_type": "code",
   "execution_count": 420,
   "metadata": {},
   "outputs": [
    {
     "data": {
      "text/html": [
       "<div>\n",
       "<style scoped>\n",
       "    .dataframe tbody tr th:only-of-type {\n",
       "        vertical-align: middle;\n",
       "    }\n",
       "\n",
       "    .dataframe tbody tr th {\n",
       "        vertical-align: top;\n",
       "    }\n",
       "\n",
       "    .dataframe thead th {\n",
       "        text-align: right;\n",
       "    }\n",
       "</style>\n",
       "<table border=\"1\" class=\"dataframe\">\n",
       "  <thead>\n",
       "    <tr style=\"text-align: right;\">\n",
       "      <th></th>\n",
       "      <th>Label</th>\n",
       "      <th>Statement</th>\n",
       "    </tr>\n",
       "  </thead>\n",
       "  <tbody>\n",
       "    <tr>\n",
       "      <th>0</th>\n",
       "      <td>FALSE</td>\n",
       "      <td>Says the Annies List political group supports ...</td>\n",
       "    </tr>\n",
       "    <tr>\n",
       "      <th>1</th>\n",
       "      <td>half-true</td>\n",
       "      <td>When did the decline of coal start? It started...</td>\n",
       "    </tr>\n",
       "    <tr>\n",
       "      <th>2</th>\n",
       "      <td>mostly-true</td>\n",
       "      <td>Hillary Clinton agrees with John McCain \"by vo...</td>\n",
       "    </tr>\n",
       "    <tr>\n",
       "      <th>3</th>\n",
       "      <td>FALSE</td>\n",
       "      <td>Health care reform legislation is likely to ma...</td>\n",
       "    </tr>\n",
       "    <tr>\n",
       "      <th>4</th>\n",
       "      <td>half-true</td>\n",
       "      <td>The economic turnaround started at the end of ...</td>\n",
       "    </tr>\n",
       "  </tbody>\n",
       "</table>\n",
       "</div>"
      ],
      "text/plain": [
       "         Label                                          Statement\n",
       "0        FALSE  Says the Annies List political group supports ...\n",
       "1    half-true  When did the decline of coal start? It started...\n",
       "2  mostly-true  Hillary Clinton agrees with John McCain \"by vo...\n",
       "3        FALSE  Health care reform legislation is likely to ma...\n",
       "4    half-true  The economic turnaround started at the end of ..."
      ]
     },
     "execution_count": 420,
     "metadata": {},
     "output_type": "execute_result"
    }
   ],
   "source": [
    "data_slice = data[['Label','Statement']]\n",
    "data_slice.head()"
   ]
  },
  {
   "cell_type": "markdown",
   "metadata": {},
   "source": [
    "#### Feature Visualization by Count"
   ]
  },
  {
   "cell_type": "code",
   "execution_count": 421,
   "metadata": {},
   "outputs": [],
   "source": [
    "True_len = data_slice[data_slice['Label'] == 'TRUE'].shape[0]\n",
    "False_len = data_slice[data_slice['Label'] == 'FALSE'].shape[0]\n",
    "Barely_true_len = data_slice[data_slice['Label'] == 'barely-true'].shape[0]\n",
    "Mostly_true_len = data_slice[data_slice['Label'] == 'mostly-true'].shape[0]\n",
    "Half_true_len = data_slice[data_slice['Label'] == 'half-true'].shape[0]\n",
    "Pants_fire_len = data_slice[data_slice['Label'] == 'pants-fire'].shape[0]"
   ]
  },
  {
   "cell_type": "code",
   "execution_count": 422,
   "metadata": {},
   "outputs": [
    {
     "data": {
      "image/png": "[encoded data removed]",
      "text/plain": [
       "<matplotlib.figure.Figure at 0x20a37d89588>"
      ]
     },
     "metadata": {},
     "output_type": "display_data"
    }
   ],
   "source": [
    "import matplotlib\n",
    "from matplotlib import pyplot as plt\n",
    "\n",
    "plt.bar(10, True_len,3, label=\"True\")\n",
    "plt.bar(30,False_len,3, label=\"False\")\n",
    "plt.bar(25,Barely_true_len,3, label=\"Barely True\")\n",
    "plt.bar(15,Mostly_true_len,3, label=\"Mostly True\")\n",
    "plt.bar(20,Half_true_len,3, label=\"Half True\")\n",
    "plt.bar(35,Pants_fire_len,3, label=\"Pants on Fire\")\n",
    "\n",
    "plt.legend()\n",
    "plt.ylabel('Number of examples')\n",
    "plt.title('Proportion of examples')\n",
    "plt.show()"
   ]
  },
  {
   "cell_type": "markdown",
   "metadata": {},
   "source": [
    "#### Separation of multiple classes for extraction of Sentiment"
   ]
  },
  {
   "cell_type": "markdown",
   "metadata": {},
   "source": [
    "#### Data Slice for classes expressing the 'Not Fake News' sentiment"
   ]
  },
  {
   "cell_type": "code",
   "execution_count": 423,
   "metadata": {},
   "outputs": [
    {
     "data": {
      "text/html": [
       "<div>\n",
       "<style scoped>\n",
       "    .dataframe tbody tr th:only-of-type {\n",
       "        vertical-align: middle;\n",
       "    }\n",
       "\n",
       "    .dataframe tbody tr th {\n",
       "        vertical-align: top;\n",
       "    }\n",
       "\n",
       "    .dataframe thead th {\n",
       "        text-align: right;\n",
       "    }\n",
       "</style>\n",
       "<table border=\"1\" class=\"dataframe\">\n",
       "  <thead>\n",
       "    <tr style=\"text-align: right;\">\n",
       "      <th></th>\n",
       "      <th>Label</th>\n",
       "      <th>Statement</th>\n",
       "    </tr>\n",
       "  </thead>\n",
       "  <tbody>\n",
       "    <tr>\n",
       "      <th>1</th>\n",
       "      <td>half-true</td>\n",
       "      <td>When did the decline of coal start? It started...</td>\n",
       "    </tr>\n",
       "    <tr>\n",
       "      <th>2</th>\n",
       "      <td>mostly-true</td>\n",
       "      <td>Hillary Clinton agrees with John McCain \"by vo...</td>\n",
       "    </tr>\n",
       "    <tr>\n",
       "      <th>4</th>\n",
       "      <td>half-true</td>\n",
       "      <td>The economic turnaround started at the end of ...</td>\n",
       "    </tr>\n",
       "    <tr>\n",
       "      <th>5</th>\n",
       "      <td>TRUE</td>\n",
       "      <td>The Chicago Bears have had more starting quart...</td>\n",
       "    </tr>\n",
       "    <tr>\n",
       "      <th>7</th>\n",
       "      <td>half-true</td>\n",
       "      <td>I'm the only person on this stage who has work...</td>\n",
       "    </tr>\n",
       "  </tbody>\n",
       "</table>\n",
       "</div>"
      ],
      "text/plain": [
       "         Label                                          Statement\n",
       "1    half-true  When did the decline of coal start? It started...\n",
       "2  mostly-true  Hillary Clinton agrees with John McCain \"by vo...\n",
       "4    half-true  The economic turnaround started at the end of ...\n",
       "5         TRUE  The Chicago Bears have had more starting quart...\n",
       "7    half-true  I'm the only person on this stage who has work..."
      ]
     },
     "execution_count": 423,
     "metadata": {},
     "output_type": "execute_result"
    }
   ],
   "source": [
    "temp_data_slice_true = data_slice.loc[(data_slice['Label'] == 'half-true') | (data_slice['Label'] == 'mostly-true') | (data_slice['Label'] == 'TRUE')]\n",
    "temp_data_slice_true.head(5)"
   ]
  },
  {
   "cell_type": "markdown",
   "metadata": {},
   "source": [
    "#### Sentiment Preprocessing"
   ]
  },
  {
   "cell_type": "code",
   "execution_count": 424,
   "metadata": {},
   "outputs": [],
   "source": [
    "data_text_true = temp_data_slice_true[['Statement']]\n",
    "data_text_true['index'] = data_text_true.index\n",
    "documents_true = data_text_true"
   ]
  },
  {
   "cell_type": "code",
   "execution_count": 425,
   "metadata": {},
   "outputs": [
    {
     "name": "stdout",
     "output_type": "stream",
     "text": [
      "original document: \n",
      "['When', 'did', 'the', 'decline', 'of', 'coal', 'start?', 'It', 'started', 'when', 'natural', 'gas', 'took', 'off', 'that', 'started', 'to', 'begin', 'in', '(President', 'George', 'W.)', 'Bushs', 'administration.']\n",
      "\n",
      "\n",
      " tokenized and lemmatized document: \n",
      "['declin', 'coal', 'start', 'start', 'natur', 'take', 'start', 'begin', 'presid', 'georg', 'bush', 'administr']\n"
     ]
    }
   ],
   "source": [
    "doc_sample_true = documents_true[documents_true['index'] == 1].values[0][0]\n",
    "print('original document: ')\n",
    "words_true = []\n",
    "for word_true in doc_sample_true.split(' '):\n",
    "    words_true.append(word_true)\n",
    "print(words_true)\n",
    "print('\\n\\n tokenized and lemmatized document: ')\n",
    "print(preprocess(doc_sample_true))"
   ]
  },
  {
   "cell_type": "code",
   "execution_count": 426,
   "metadata": {},
   "outputs": [
    {
     "data": {
      "text/plain": [
       "1     [declin, coal, start, start, natur, take, star...\n",
       "2     [hillari, clinton, agre, john, mccain, vote, g...\n",
       "4                     [econom, turnaround, start, term]\n",
       "5     [chicago, bear, start, quarterback, year, tota...\n",
       "7     [person, stage, work, activ, year, pass, russ,...\n",
       "8     [take, million, oregon, lotteri, fund, port, n...\n",
       "9     [say, primari, oppon, glenn, grothman, leibham...\n",
       "10    [time, histori, share, nation, popular, vote, ...\n",
       "11    [near, million, american, slip, middl, class, ...\n",
       "13          [economi, bleed, billion, govern, shutdown]\n",
       "Name: Statement, dtype: object"
      ]
     },
     "execution_count": 426,
     "metadata": {},
     "output_type": "execute_result"
    }
   ],
   "source": [
    "processed_docs_true = documents_true['Statement'].map(preprocess)\n",
    "processed_docs_true[:10]"
   ]
  },
  {
   "cell_type": "markdown",
   "metadata": {},
   "source": [
    "#### Sentiment 'true' Extraction"
   ]
  },
  {
   "cell_type": "code",
   "execution_count": 427,
   "metadata": {},
   "outputs": [
    {
     "name": "stdout",
     "output_type": "stream",
     "text": [
      "({'declin': True, 'coal': True, 'start': True, 'natur': True, 'take': True, 'begin': True, 'presid': True, 'georg': True, 'bush': True, 'administr': True}, 'true')\n",
      "5772\n"
     ]
    }
   ],
   "source": [
    "true_news = []\n",
    "\n",
    "for docs_true in processed_docs_true:\n",
    "    true_news.append((create_word_features(docs_true), \"true\"))\n",
    "print(true_news[0])    \n",
    "print(len(true_news))"
   ]
  },
  {
   "cell_type": "markdown",
   "metadata": {},
   "source": [
    "#### Data Slice for classes expressing the 'Fake News' sentiment"
   ]
  },
  {
   "cell_type": "code",
   "execution_count": 428,
   "metadata": {},
   "outputs": [
    {
     "data": {
      "text/html": [
       "<div>\n",
       "<style scoped>\n",
       "    .dataframe tbody tr th:only-of-type {\n",
       "        vertical-align: middle;\n",
       "    }\n",
       "\n",
       "    .dataframe tbody tr th {\n",
       "        vertical-align: top;\n",
       "    }\n",
       "\n",
       "    .dataframe thead th {\n",
       "        text-align: right;\n",
       "    }\n",
       "</style>\n",
       "<table border=\"1\" class=\"dataframe\">\n",
       "  <thead>\n",
       "    <tr style=\"text-align: right;\">\n",
       "      <th></th>\n",
       "      <th>Label</th>\n",
       "      <th>Statement</th>\n",
       "    </tr>\n",
       "  </thead>\n",
       "  <tbody>\n",
       "    <tr>\n",
       "      <th>0</th>\n",
       "      <td>FALSE</td>\n",
       "      <td>Says the Annies List political group supports ...</td>\n",
       "    </tr>\n",
       "    <tr>\n",
       "      <th>3</th>\n",
       "      <td>FALSE</td>\n",
       "      <td>Health care reform legislation is likely to ma...</td>\n",
       "    </tr>\n",
       "    <tr>\n",
       "      <th>6</th>\n",
       "      <td>barely-true</td>\n",
       "      <td>Jim Dunnam has not lived in the district he re...</td>\n",
       "    </tr>\n",
       "    <tr>\n",
       "      <th>12</th>\n",
       "      <td>FALSE</td>\n",
       "      <td>When Mitt Romney was governor of Massachusetts...</td>\n",
       "    </tr>\n",
       "    <tr>\n",
       "      <th>14</th>\n",
       "      <td>barely-true</td>\n",
       "      <td>Most of the (Affordable Care Act) has already ...</td>\n",
       "    </tr>\n",
       "  </tbody>\n",
       "</table>\n",
       "</div>"
      ],
      "text/plain": [
       "          Label                                          Statement\n",
       "0         FALSE  Says the Annies List political group supports ...\n",
       "3         FALSE  Health care reform legislation is likely to ma...\n",
       "6   barely-true  Jim Dunnam has not lived in the district he re...\n",
       "12        FALSE  When Mitt Romney was governor of Massachusetts...\n",
       "14  barely-true  Most of the (Affordable Care Act) has already ..."
      ]
     },
     "execution_count": 428,
     "metadata": {},
     "output_type": "execute_result"
    }
   ],
   "source": [
    "temp_data_slice_fake = data_slice.loc[(data_slice['Label'] == 'barely-true') | (data_slice['Label'] == 'FALSE') | (data_slice['Label'] == 'pants-fire')]\n",
    "temp_data_slice_fake.head(5)"
   ]
  },
  {
   "cell_type": "markdown",
   "metadata": {},
   "source": [
    "#### Sentiment Preprocessing"
   ]
  },
  {
   "cell_type": "code",
   "execution_count": 429,
   "metadata": {},
   "outputs": [],
   "source": [
    "data_text_fake = temp_data_slice_fake[['Statement']]\n",
    "data_text_fake['index'] = data_text_fake.index\n",
    "documents_fake = data_text_fake"
   ]
  },
  {
   "cell_type": "code",
   "execution_count": 430,
   "metadata": {},
   "outputs": [
    {
     "name": "stdout",
     "output_type": "stream",
     "text": [
      "original document: \n",
      "['Health', 'care', 'reform', 'legislation', 'is', 'likely', 'to', 'mandate', 'free', 'sex', 'change', 'surgeries.']\n",
      "\n",
      "\n",
      " tokenized and lemmatized document: \n",
      "['health', 'care', 'reform', 'legisl', 'like', 'mandat', 'free', 'chang', 'surgeri']\n"
     ]
    }
   ],
   "source": [
    "doc_sample_fake = documents_fake[documents_fake['index'] == 3].values[0][0]\n",
    "print('original document: ')\n",
    "words_fake = []\n",
    "for word_fake in doc_sample_fake.split(' '):\n",
    "    words_fake.append(word_fake)\n",
    "print(words_fake)\n",
    "print('\\n\\n tokenized and lemmatized document: ')\n",
    "print(preprocess(doc_sample_fake))"
   ]
  },
  {
   "cell_type": "code",
   "execution_count": 431,
   "metadata": {},
   "outputs": [
    {
     "data": {
      "text/plain": [
       "0     [say, anni, list, polit, group, support, trime...\n",
       "3     [health, care, reform, legisl, like, mandat, f...\n",
       "6                [dunnam, live, district, repres, year]\n",
       "12    [mitt, romney, governor, massachusett, didnt, ...\n",
       "14                  [afford, care, sens, waiv, suspend]\n",
       "17    [kind, fellow, democrat, go, spend, spree, cre...\n",
       "20    [women, make, adjust, inflat, john, kitzhab, e...\n",
       "24          [say, mitt, romney, want, plan, parenthood]\n",
       "25                       [dont, know, jonathan, gruber]\n",
       "28    [isi, support, tweet, shoot, begin, chattanoog...\n",
       "Name: Statement, dtype: object"
      ]
     },
     "execution_count": 431,
     "metadata": {},
     "output_type": "execute_result"
    }
   ],
   "source": [
    "processed_docs_fake = documents_fake['Statement'].map(preprocess)\n",
    "processed_docs_fake[:10]"
   ]
  },
  {
   "cell_type": "markdown",
   "metadata": {},
   "source": [
    "#### Sentiment 'fake' Extraction"
   ]
  },
  {
   "cell_type": "code",
   "execution_count": 432,
   "metadata": {},
   "outputs": [
    {
     "name": "stdout",
     "output_type": "stream",
     "text": [
      "({'say': True, 'anni': True, 'list': True, 'polit': True, 'group': True, 'support': True, 'trimest': True, 'abort': True, 'demand': True}, 'fake')\n",
      "4497\n"
     ]
    }
   ],
   "source": [
    "fake_news = []\n",
    "\n",
    "for docs_fake in processed_docs_fake:\n",
    "    fake_news.append((create_word_features(docs_fake), \"fake\"))\n",
    "print(fake_news[0])    \n",
    "print(len(fake_news))"
   ]
  },
  {
   "cell_type": "markdown",
   "metadata": {},
   "source": [
    "#### Splitting the data into Training and Testing Datasets"
   ]
  },
  {
   "cell_type": "code",
   "execution_count": 433,
   "metadata": {},
   "outputs": [
    {
     "name": "stdout",
     "output_type": "stream",
     "text": [
      "7000 3269\n"
     ]
    }
   ],
   "source": [
    "train_set = true_news[:4000] + fake_news[:3000]\n",
    "test_set = true_news[4000:] + fake_news[3000:]\n",
    "\n",
    "print(len(train_set),  len(test_set))"
   ]
  },
  {
   "cell_type": "markdown",
   "metadata": {},
   "source": [
    "#### Training the model based on the sentiments"
   ]
  },
  {
   "cell_type": "code",
   "execution_count": 434,
   "metadata": {},
   "outputs": [],
   "source": [
    "classifier = NaiveBayesClassifier.train(train_set)"
   ]
  },
  {
   "cell_type": "markdown",
   "metadata": {},
   "source": [
    "#### Accuracy calculation"
   ]
  },
  {
   "cell_type": "code",
   "execution_count": 435,
   "metadata": {},
   "outputs": [
    {
     "name": "stdout",
     "output_type": "stream",
     "text": [
      "59.100642398286936\n"
     ]
    }
   ],
   "source": [
    "accuracy = nltk.classify.util.accuracy(classifier, test_set)\n",
    "print(accuracy * 100)"
   ]
  },
  {
   "cell_type": "markdown",
   "metadata": {},
   "source": [
    "## Latent Dirichlet Allocation"
   ]
  },
  {
   "cell_type": "markdown",
   "metadata": {},
   "source": [
    "#### Creating Bag of Words via Dictionary and hence create a Gensim Corpus"
   ]
  },
  {
   "cell_type": "code",
   "execution_count": 436,
   "metadata": {},
   "outputs": [
    {
     "name": "stdout",
     "output_type": "stream",
     "text": [
      "0 abort\n",
      "1 anni\n",
      "2 demand\n",
      "3 group\n",
      "4 list\n",
      "5 polit\n",
      "6 say\n",
      "7 support\n",
      "8 trimest\n",
      "9 administr\n",
      "10 begin\n"
     ]
    }
   ],
   "source": [
    "dictionary = gensim.corpora.Dictionary(processed_docs)\n",
    "count = 0\n",
    "for k, v in dictionary.iteritems():\n",
    "    print(k, v)\n",
    "    count += 1\n",
    "    if count > 10:\n",
    "        break"
   ]
  },
  {
   "cell_type": "markdown",
   "metadata": {},
   "source": [
    "#### Token Filtering"
   ]
  },
  {
   "cell_type": "code",
   "execution_count": 437,
   "metadata": {},
   "outputs": [],
   "source": [
    "dictionary.filter_extremes(no_below=15, no_above=0.5, keep_n=100000)"
   ]
  },
  {
   "cell_type": "markdown",
   "metadata": {},
   "source": [
    "#### Generating Bag of Words(Bow) Corpus using Gensim doc2bow function"
   ]
  },
  {
   "cell_type": "code",
   "execution_count": 438,
   "metadata": {},
   "outputs": [
    {
     "data": {
      "text/plain": [
       "[(5, 1),\n",
       " (24, 1),\n",
       " (117, 1),\n",
       " (152, 1),\n",
       " (352, 1),\n",
       " (535, 1),\n",
       " (708, 1),\n",
       " (906, 1),\n",
       " (1065, 1)]"
      ]
     },
     "execution_count": 438,
     "metadata": {},
     "output_type": "execute_result"
    }
   ],
   "source": [
    "bow_corpus = [dictionary.doc2bow(doc) for doc in processed_docs]\n",
    "bow_corpus[4310]"
   ]
  },
  {
   "cell_type": "markdown",
   "metadata": {},
   "source": [
    "#### Preview Bag of Words Corpus for the selected document"
   ]
  },
  {
   "cell_type": "code",
   "execution_count": 439,
   "metadata": {},
   "outputs": [
    {
     "name": "stdout",
     "output_type": "stream",
     "text": [
      "Word 5 (\"say\") appears 1 time.\n",
      "Word 24 (\"vote\") appears 1 time.\n",
      "Word 117 (\"state\") appears 1 time.\n",
      "Word 152 (\"busi\") appears 1 time.\n",
      "Word 352 (\"nurs\") appears 1 time.\n",
      "Word 535 (\"small\") appears 1 time.\n",
      "Word 708 (\"doctor\") appears 1 time.\n",
      "Word 906 (\"put\") appears 1 time.\n",
      "Word 1065 (\"interest\") appears 1 time.\n"
     ]
    }
   ],
   "source": [
    "bow_doc_4310 = bow_corpus[4310]\n",
    "for i in range(len(bow_doc_4310)):\n",
    "    print(\"Word {} (\\\"{}\\\") appears {} time.\".format(bow_doc_4310[i][0], \n",
    "                                               dictionary[bow_doc_4310[i][0]], \n",
    "bow_doc_4310[i][1]))"
   ]
  },
  {
   "cell_type": "markdown",
   "metadata": {},
   "source": [
    "#### Applying TF-IDF to create the model to apply LDA"
   ]
  },
  {
   "cell_type": "code",
   "execution_count": 440,
   "metadata": {},
   "outputs": [
    {
     "name": "stdout",
     "output_type": "stream",
     "text": [
      "[(0, 0.3399028377044521),\n",
      " (1, 0.49960086945501425),\n",
      " (2, 0.40963633375026987),\n",
      " (3, 0.46333565607020666),\n",
      " (4, 0.40830190020991924),\n",
      " (5, 0.10872586224577774),\n",
      " (6, 0.27175617970851096)]\n"
     ]
    }
   ],
   "source": [
    "from gensim import corpora, models\n",
    "tfidf = models.TfidfModel(bow_corpus)\n",
    "corpus_tfidf = tfidf[bow_corpus]\n",
    "from pprint import pprint\n",
    "for doc in corpus_tfidf:\n",
    "    pprint(doc)\n",
    "    break"
   ]
  },
  {
   "cell_type": "markdown",
   "metadata": {},
   "source": [
    "#### Running LDA using Bag of Words"
   ]
  },
  {
   "cell_type": "code",
   "execution_count": 441,
   "metadata": {},
   "outputs": [],
   "source": [
    "lda_model = gensim.models.LdaMulticore(bow_corpus, num_topics=10, id2word=dictionary, passes=2, workers=2)"
   ]
  },
  {
   "cell_type": "code",
   "execution_count": 442,
   "metadata": {},
   "outputs": [
    {
     "name": "stdout",
     "output_type": "stream",
     "text": [
      "Topic: 0 \n",
      "Words: 0.044*\"say\" + 0.021*\"texa\" + 0.021*\"american\" + 0.020*\"state\" + 0.016*\"vote\" + 0.012*\"time\" + 0.012*\"million\" + 0.010*\"percent\" + 0.010*\"america\" + 0.008*\"nation\"\n",
      "Topic: 1 \n",
      "Words: 0.035*\"state\" + 0.034*\"year\" + 0.033*\"health\" + 0.023*\"care\" + 0.017*\"percent\" + 0.016*\"budget\" + 0.015*\"say\" + 0.014*\"wisconsin\" + 0.012*\"countri\" + 0.011*\"billion\"\n",
      "Topic: 2 \n",
      "Words: 0.030*\"say\" + 0.027*\"state\" + 0.023*\"percent\" + 0.023*\"republican\" + 0.019*\"vote\" + 0.015*\"senat\" + 0.013*\"elect\" + 0.013*\"democrat\" + 0.012*\"spend\" + 0.012*\"time\"\n",
      "Topic: 3 \n",
      "Words: 0.039*\"percent\" + 0.037*\"job\" + 0.025*\"say\" + 0.021*\"govern\" + 0.020*\"american\" + 0.018*\"feder\" + 0.016*\"creat\" + 0.015*\"lose\" + 0.010*\"state\" + 0.009*\"compani\"\n",
      "Topic: 4 \n",
      "Words: 0.052*\"say\" + 0.021*\"clinton\" + 0.017*\"school\" + 0.017*\"hillari\" + 0.015*\"tax\" + 0.015*\"state\" + 0.014*\"want\" + 0.012*\"public\" + 0.012*\"obama\" + 0.011*\"presid\"\n",
      "Topic: 5 \n",
      "Words: 0.035*\"care\" + 0.034*\"health\" + 0.031*\"say\" + 0.017*\"year\" + 0.016*\"plan\" + 0.016*\"cost\" + 0.014*\"work\" + 0.012*\"million\" + 0.012*\"democrat\" + 0.011*\"busi\"\n",
      "Topic: 6 \n",
      "Words: 0.044*\"year\" + 0.024*\"state\" + 0.022*\"obama\" + 0.020*\"presid\" + 0.019*\"peopl\" + 0.019*\"say\" + 0.015*\"million\" + 0.013*\"percent\" + 0.011*\"spend\" + 0.011*\"billion\"\n",
      "Topic: 7 \n",
      "Words: 0.044*\"say\" + 0.016*\"immigr\" + 0.015*\"percent\" + 0.014*\"vote\" + 0.014*\"peopl\" + 0.013*\"illeg\" + 0.010*\"tax\" + 0.010*\"take\" + 0.010*\"year\" + 0.009*\"number\"\n",
      "Topic: 8 \n",
      "Words: 0.050*\"say\" + 0.036*\"state\" + 0.023*\"percent\" + 0.017*\"year\" + 0.016*\"unit\" + 0.014*\"nation\" + 0.012*\"averag\" + 0.011*\"spend\" + 0.011*\"school\" + 0.010*\"dont\"\n",
      "Topic: 9 \n",
      "Words: 0.055*\"say\" + 0.048*\"obama\" + 0.033*\"presid\" + 0.028*\"barack\" + 0.020*\"vote\" + 0.017*\"percent\" + 0.010*\"democrat\" + 0.010*\"year\" + 0.010*\"go\" + 0.009*\"citi\"\n"
     ]
    }
   ],
   "source": [
    "for idx, topic in lda_model.print_topics(-1):\n",
    "    print('Topic: {} \\nWords: {}'.format(idx, topic))"
   ]
  },
  {
   "cell_type": "markdown",
   "metadata": {},
   "source": [
    "#### Running LDA with TF-IDF"
   ]
  },
  {
   "cell_type": "code",
   "execution_count": 443,
   "metadata": {},
   "outputs": [
    {
     "name": "stdout",
     "output_type": "stream",
     "text": [
      "Topic: 0 Word: 0.014*\"say\" + 0.013*\"clinton\" + 0.012*\"hillari\" + 0.010*\"plan\" + 0.009*\"percent\" + 0.008*\"republican\" + 0.008*\"american\" + 0.007*\"year\" + 0.007*\"come\" + 0.007*\"million\"\n",
      "Topic: 1 Word: 0.014*\"govern\" + 0.011*\"say\" + 0.010*\"state\" + 0.009*\"year\" + 0.008*\"percent\" + 0.007*\"billion\" + 0.007*\"border\" + 0.007*\"spend\" + 0.007*\"presid\" + 0.007*\"deficit\"\n",
      "Topic: 2 Word: 0.015*\"say\" + 0.015*\"obama\" + 0.013*\"job\" + 0.012*\"state\" + 0.012*\"presid\" + 0.011*\"barack\" + 0.011*\"year\" + 0.010*\"percent\" + 0.008*\"cost\" + 0.008*\"care\"\n",
      "Topic: 3 Word: 0.013*\"percent\" + 0.012*\"say\" + 0.009*\"vote\" + 0.009*\"cut\" + 0.009*\"obama\" + 0.008*\"year\" + 0.008*\"state\" + 0.007*\"bush\" + 0.007*\"presid\" + 0.007*\"abort\"\n",
      "Topic: 4 Word: 0.021*\"care\" + 0.021*\"health\" + 0.014*\"say\" + 0.013*\"spend\" + 0.012*\"texa\" + 0.010*\"percent\" + 0.010*\"year\" + 0.010*\"state\" + 0.009*\"vote\" + 0.007*\"feder\"\n",
      "Topic: 5 Word: 0.012*\"rais\" + 0.011*\"tax\" + 0.011*\"year\" + 0.011*\"say\" + 0.010*\"million\" + 0.008*\"peopl\" + 0.008*\"chang\" + 0.007*\"percent\" + 0.007*\"american\" + 0.007*\"record\"\n",
      "Topic: 6 Word: 0.014*\"say\" + 0.012*\"school\" + 0.011*\"percent\" + 0.011*\"state\" + 0.008*\"rate\" + 0.008*\"year\" + 0.008*\"nation\" + 0.008*\"unemploy\" + 0.008*\"obama\" + 0.008*\"american\"\n",
      "Topic: 7 Word: 0.015*\"state\" + 0.013*\"percent\" + 0.012*\"tax\" + 0.010*\"say\" + 0.008*\"vote\" + 0.008*\"job\" + 0.008*\"rais\" + 0.008*\"countri\" + 0.007*\"year\" + 0.007*\"unit\"\n",
      "Topic: 8 Word: 0.016*\"say\" + 0.009*\"presid\" + 0.009*\"want\" + 0.008*\"romney\" + 0.008*\"mitt\" + 0.008*\"immigr\" + 0.007*\"dont\" + 0.007*\"school\" + 0.007*\"countri\" + 0.006*\"vote\"\n",
      "Topic: 9 Word: 0.013*\"year\" + 0.011*\"say\" + 0.009*\"state\" + 0.008*\"percent\" + 0.008*\"obama\" + 0.007*\"million\" + 0.007*\"go\" + 0.007*\"vote\" + 0.006*\"children\" + 0.006*\"month\"\n"
     ]
    }
   ],
   "source": [
    "lda_model_tfidf = gensim.models.LdaMulticore(corpus_tfidf, num_topics=10, id2word=dictionary, passes=2, workers=4)\n",
    "for idx, topic in lda_model_tfidf.print_topics(-1):\n",
    "    print('Topic: {} Word: {}'.format(idx, topic))"
   ]
  },
  {
   "cell_type": "code",
   "execution_count": 444,
   "metadata": {},
   "outputs": [
    {
     "data": {
      "text/plain": [
       "['say',\n",
       " 'state',\n",
       " 'morgan',\n",
       " 'carrol',\n",
       " 'vote',\n",
       " 'easier',\n",
       " 'doctor',\n",
       " 'small',\n",
       " 'busi',\n",
       " 'nurs',\n",
       " 'put',\n",
       " 'shadi',\n",
       " 'interest']"
      ]
     },
     "execution_count": 444,
     "metadata": {},
     "output_type": "execute_result"
    }
   ],
   "source": [
    "processed_docs[4310]"
   ]
  },
  {
   "cell_type": "markdown",
   "metadata": {},
   "source": [
    "#### Performance evaluation by classification of document preprocessed using LDA Bag of Words"
   ]
  },
  {
   "cell_type": "code",
   "execution_count": 445,
   "metadata": {},
   "outputs": [
    {
     "name": "stdout",
     "output_type": "stream",
     "text": [
      "\n",
      "Score: 0.6088118553161621\t \n",
      "Topic: 0.035*\"care\" + 0.034*\"health\" + 0.031*\"say\" + 0.017*\"year\" + 0.016*\"plan\" + 0.016*\"cost\" + 0.014*\"work\" + 0.012*\"million\" + 0.012*\"democrat\" + 0.011*\"busi\"\n",
      "\n",
      "Score: 0.31116801500320435\t \n",
      "Topic: 0.044*\"say\" + 0.021*\"texa\" + 0.021*\"american\" + 0.020*\"state\" + 0.016*\"vote\" + 0.012*\"time\" + 0.012*\"million\" + 0.010*\"percent\" + 0.010*\"america\" + 0.008*\"nation\"\n",
      "\n",
      "Score: 0.010004254058003426\t \n",
      "Topic: 0.044*\"say\" + 0.016*\"immigr\" + 0.015*\"percent\" + 0.014*\"vote\" + 0.014*\"peopl\" + 0.013*\"illeg\" + 0.010*\"tax\" + 0.010*\"take\" + 0.010*\"year\" + 0.009*\"number\"\n",
      "\n",
      "Score: 0.010003251023590565\t \n",
      "Topic: 0.055*\"say\" + 0.048*\"obama\" + 0.033*\"presid\" + 0.028*\"barack\" + 0.020*\"vote\" + 0.017*\"percent\" + 0.010*\"democrat\" + 0.010*\"year\" + 0.010*\"go\" + 0.009*\"citi\"\n",
      "\n",
      "Score: 0.010002589784562588\t \n",
      "Topic: 0.052*\"say\" + 0.021*\"clinton\" + 0.017*\"school\" + 0.017*\"hillari\" + 0.015*\"tax\" + 0.015*\"state\" + 0.014*\"want\" + 0.012*\"public\" + 0.012*\"obama\" + 0.011*\"presid\"\n",
      "\n",
      "Score: 0.01000246498733759\t \n",
      "Topic: 0.030*\"say\" + 0.027*\"state\" + 0.023*\"percent\" + 0.023*\"republican\" + 0.019*\"vote\" + 0.015*\"senat\" + 0.013*\"elect\" + 0.013*\"democrat\" + 0.012*\"spend\" + 0.012*\"time\"\n",
      "\n",
      "Score: 0.010002375580370426\t \n",
      "Topic: 0.050*\"say\" + 0.036*\"state\" + 0.023*\"percent\" + 0.017*\"year\" + 0.016*\"unit\" + 0.014*\"nation\" + 0.012*\"averag\" + 0.011*\"spend\" + 0.011*\"school\" + 0.010*\"dont\"\n",
      "\n",
      "Score: 0.010002327151596546\t \n",
      "Topic: 0.035*\"state\" + 0.034*\"year\" + 0.033*\"health\" + 0.023*\"care\" + 0.017*\"percent\" + 0.016*\"budget\" + 0.015*\"say\" + 0.014*\"wisconsin\" + 0.012*\"countri\" + 0.011*\"billion\"\n",
      "\n",
      "Score: 0.010002008639276028\t \n",
      "Topic: 0.044*\"year\" + 0.024*\"state\" + 0.022*\"obama\" + 0.020*\"presid\" + 0.019*\"peopl\" + 0.019*\"say\" + 0.015*\"million\" + 0.013*\"percent\" + 0.011*\"spend\" + 0.011*\"billion\"\n",
      "\n",
      "Score: 0.010000860318541527\t \n",
      "Topic: 0.039*\"percent\" + 0.037*\"job\" + 0.025*\"say\" + 0.021*\"govern\" + 0.020*\"american\" + 0.018*\"feder\" + 0.016*\"creat\" + 0.015*\"lose\" + 0.010*\"state\" + 0.009*\"compani\"\n"
     ]
    }
   ],
   "source": [
    "for index, score in sorted(lda_model[bow_corpus[4310]], key=lambda tup: -1*tup[1]):\n",
    "    print(\"\\nScore: {}\\t \\nTopic: {}\".format(score, lda_model.print_topic(index, 10)))"
   ]
  },
  {
   "cell_type": "markdown",
   "metadata": {},
   "source": [
    "#### Performance evaluation by classification of document preprocessed using TF-IDF model"
   ]
  },
  {
   "cell_type": "code",
   "execution_count": 446,
   "metadata": {},
   "outputs": [
    {
     "name": "stdout",
     "output_type": "stream",
     "text": [
      "\n",
      "Score: 0.681583821773529\t \n",
      "Topic: 0.013*\"year\" + 0.011*\"say\" + 0.009*\"state\" + 0.008*\"percent\" + 0.008*\"obama\" + 0.007*\"million\" + 0.007*\"go\" + 0.007*\"vote\" + 0.006*\"children\" + 0.006*\"month\"\n",
      "\n",
      "Score: 0.23839756846427917\t \n",
      "Topic: 0.021*\"care\" + 0.021*\"health\" + 0.014*\"say\" + 0.013*\"spend\" + 0.012*\"texa\" + 0.010*\"percent\" + 0.010*\"year\" + 0.010*\"state\" + 0.009*\"vote\" + 0.007*\"feder\"\n",
      "\n",
      "Score: 0.010003580711781979\t \n",
      "Topic: 0.013*\"percent\" + 0.012*\"say\" + 0.009*\"vote\" + 0.009*\"cut\" + 0.009*\"obama\" + 0.008*\"year\" + 0.008*\"state\" + 0.007*\"bush\" + 0.007*\"presid\" + 0.007*\"abort\"\n",
      "\n",
      "Score: 0.010003073140978813\t \n",
      "Topic: 0.015*\"say\" + 0.015*\"obama\" + 0.013*\"job\" + 0.012*\"state\" + 0.012*\"presid\" + 0.011*\"barack\" + 0.011*\"year\" + 0.010*\"percent\" + 0.008*\"cost\" + 0.008*\"care\"\n",
      "\n",
      "Score: 0.010002702474594116\t \n",
      "Topic: 0.015*\"state\" + 0.013*\"percent\" + 0.012*\"tax\" + 0.010*\"say\" + 0.008*\"vote\" + 0.008*\"job\" + 0.008*\"rais\" + 0.008*\"countri\" + 0.007*\"year\" + 0.007*\"unit\"\n",
      "\n",
      "Score: 0.01000252552330494\t \n",
      "Topic: 0.016*\"say\" + 0.009*\"presid\" + 0.009*\"want\" + 0.008*\"romney\" + 0.008*\"mitt\" + 0.008*\"immigr\" + 0.007*\"dont\" + 0.007*\"school\" + 0.007*\"countri\" + 0.006*\"vote\"\n",
      "\n",
      "Score: 0.010002112947404385\t \n",
      "Topic: 0.014*\"say\" + 0.012*\"school\" + 0.011*\"percent\" + 0.011*\"state\" + 0.008*\"rate\" + 0.008*\"year\" + 0.008*\"nation\" + 0.008*\"unemploy\" + 0.008*\"obama\" + 0.008*\"american\"\n",
      "\n",
      "Score: 0.010001635178923607\t \n",
      "Topic: 0.014*\"govern\" + 0.011*\"say\" + 0.010*\"state\" + 0.009*\"year\" + 0.008*\"percent\" + 0.007*\"billion\" + 0.007*\"border\" + 0.007*\"spend\" + 0.007*\"presid\" + 0.007*\"deficit\"\n",
      "\n",
      "Score: 0.010001600719988346\t \n",
      "Topic: 0.014*\"say\" + 0.013*\"clinton\" + 0.012*\"hillari\" + 0.010*\"plan\" + 0.009*\"percent\" + 0.008*\"republican\" + 0.008*\"american\" + 0.007*\"year\" + 0.007*\"come\" + 0.007*\"million\"\n",
      "\n",
      "Score: 0.010001334361732006\t \n",
      "Topic: 0.012*\"rais\" + 0.011*\"tax\" + 0.011*\"year\" + 0.011*\"say\" + 0.010*\"million\" + 0.008*\"peopl\" + 0.008*\"chang\" + 0.007*\"percent\" + 0.007*\"american\" + 0.007*\"record\"\n"
     ]
    }
   ],
   "source": [
    "for index, score in sorted(lda_model_tfidf[bow_corpus[4310]], key=lambda tup: -1*tup[1]):\n",
    "    print(\"\\nScore: {}\\t \\nTopic: {}\".format(score, lda_model_tfidf.print_topic(index, 10)))"
   ]
  },
  {
   "cell_type": "markdown",
   "metadata": {},
   "source": [
    "#### Testing on Unseen Document"
   ]
  },
  {
   "cell_type": "code",
   "execution_count": 447,
   "metadata": {},
   "outputs": [
    {
     "name": "stdout",
     "output_type": "stream",
     "text": [
      "Score: 0.6999523043632507\t Topic: 0.044*\"say\" + 0.016*\"immigr\" + 0.015*\"percent\" + 0.014*\"vote\" + 0.014*\"peopl\"\n",
      "Score: 0.03334225341677666\t Topic: 0.044*\"year\" + 0.024*\"state\" + 0.022*\"obama\" + 0.020*\"presid\" + 0.019*\"peopl\"\n",
      "Score: 0.03334197774529457\t Topic: 0.052*\"say\" + 0.021*\"clinton\" + 0.017*\"school\" + 0.017*\"hillari\" + 0.015*\"tax\"\n",
      "Score: 0.03334192931652069\t Topic: 0.039*\"percent\" + 0.037*\"job\" + 0.025*\"say\" + 0.021*\"govern\" + 0.020*\"american\"\n",
      "Score: 0.033339258283376694\t Topic: 0.055*\"say\" + 0.048*\"obama\" + 0.033*\"presid\" + 0.028*\"barack\" + 0.020*\"vote\"\n",
      "Score: 0.03333902731537819\t Topic: 0.030*\"say\" + 0.027*\"state\" + 0.023*\"percent\" + 0.023*\"republican\" + 0.019*\"vote\"\n",
      "Score: 0.033338017761707306\t Topic: 0.050*\"say\" + 0.036*\"state\" + 0.023*\"percent\" + 0.017*\"year\" + 0.016*\"unit\"\n",
      "Score: 0.033335912972688675\t Topic: 0.044*\"say\" + 0.021*\"texa\" + 0.021*\"american\" + 0.020*\"state\" + 0.016*\"vote\"\n",
      "Score: 0.033335860818624496\t Topic: 0.035*\"care\" + 0.034*\"health\" + 0.031*\"say\" + 0.017*\"year\" + 0.016*\"plan\"\n",
      "Score: 0.033333491533994675\t Topic: 0.035*\"state\" + 0.034*\"year\" + 0.033*\"health\" + 0.023*\"care\" + 0.017*\"percent\"\n"
     ]
    }
   ],
   "source": [
    "unseen_document = 'How a Pentagon deal became an identity crisis for Google'\n",
    "bow_vector = dictionary.doc2bow(preprocess(unseen_document))\n",
    "for index, score in sorted(lda_model[bow_vector], key=lambda tup: -1*tup[1]):\n",
    "    print(\"Score: {}\\t Topic: {}\".format(score, lda_model.print_topic(index, 5)))"
   ]
  },
  {
   "cell_type": "markdown",
   "metadata": {},
   "source": [
    "### Creation of TF-IDF Vectorizer"
   ]
  },
  {
   "cell_type": "markdown",
   "metadata": {},
   "source": [
    "#### Data Slicing & 'Party Affiliation' Feature Extraction"
   ]
  },
  {
   "cell_type": "code",
   "execution_count": 448,
   "metadata": {},
   "outputs": [
    {
     "data": {
      "text/html": [
       "<div>\n",
       "<style scoped>\n",
       "    .dataframe tbody tr th:only-of-type {\n",
       "        vertical-align: middle;\n",
       "    }\n",
       "\n",
       "    .dataframe tbody tr th {\n",
       "        vertical-align: top;\n",
       "    }\n",
       "\n",
       "    .dataframe thead tr th {\n",
       "        text-align: left;\n",
       "    }\n",
       "\n",
       "    .dataframe thead tr:last-of-type th {\n",
       "        text-align: right;\n",
       "    }\n",
       "</style>\n",
       "<table border=\"1\" class=\"dataframe\">\n",
       "  <thead>\n",
       "    <tr>\n",
       "      <th></th>\n",
       "      <th colspan=\"4\" halign=\"left\">Statement</th>\n",
       "    </tr>\n",
       "    <tr>\n",
       "      <th></th>\n",
       "      <th>count</th>\n",
       "      <th>unique</th>\n",
       "      <th>top</th>\n",
       "      <th>freq</th>\n",
       "    </tr>\n",
       "    <tr>\n",
       "      <th>Party Affiliation</th>\n",
       "      <th></th>\n",
       "      <th></th>\n",
       "      <th></th>\n",
       "      <th></th>\n",
       "    </tr>\n",
       "  </thead>\n",
       "  <tbody>\n",
       "    <tr>\n",
       "      <th>Moderate</th>\n",
       "      <td>1</td>\n",
       "      <td>1</td>\n",
       "      <td>Says Peter Kilmartin has only three years expe...</td>\n",
       "      <td>1</td>\n",
       "    </tr>\n",
       "    <tr>\n",
       "      <th>NA</th>\n",
       "      <td>6</td>\n",
       "      <td>6</td>\n",
       "      <td>When you were casting your vote for Republican...</td>\n",
       "      <td>1</td>\n",
       "    </tr>\n",
       "    <tr>\n",
       "      <th>activist</th>\n",
       "      <td>40</td>\n",
       "      <td>40</td>\n",
       "      <td>Every day, 34 Americans are murdered with guns.</td>\n",
       "      <td>1</td>\n",
       "    </tr>\n",
       "    <tr>\n",
       "      <th>business-leader</th>\n",
       "      <td>9</td>\n",
       "      <td>9</td>\n",
       "      <td>A 50-50 public-private split for paying for a ...</td>\n",
       "      <td>1</td>\n",
       "    </tr>\n",
       "    <tr>\n",
       "      <th>columnist</th>\n",
       "      <td>36</td>\n",
       "      <td>36</td>\n",
       "      <td>Says 18 states and the District of Columbia ha...</td>\n",
       "      <td>1</td>\n",
       "    </tr>\n",
       "    <tr>\n",
       "      <th>constitution-party</th>\n",
       "      <td>1</td>\n",
       "      <td>1</td>\n",
       "      <td>Barack Obama \"openly supported (opposition lea...</td>\n",
       "      <td>1</td>\n",
       "    </tr>\n",
       "    <tr>\n",
       "      <th>democrat</th>\n",
       "      <td>3342</td>\n",
       "      <td>3340</td>\n",
       "      <td>Six justices on the U.S. Supreme Court have be...</td>\n",
       "      <td>2</td>\n",
       "    </tr>\n",
       "    <tr>\n",
       "      <th>democratic-farmer-labor</th>\n",
       "      <td>1</td>\n",
       "      <td>1</td>\n",
       "      <td>Tim Pawlenty has cut education funding in Minn...</td>\n",
       "      <td>1</td>\n",
       "    </tr>\n",
       "    <tr>\n",
       "      <th>education-official</th>\n",
       "      <td>2</td>\n",
       "      <td>2</td>\n",
       "      <td>The Arizona State Board of Educations failure ...</td>\n",
       "      <td>1</td>\n",
       "    </tr>\n",
       "    <tr>\n",
       "      <th>government-body</th>\n",
       "      <td>1</td>\n",
       "      <td>1</td>\n",
       "      <td>The (New England) Patriots were led by an expl...</td>\n",
       "      <td>1</td>\n",
       "    </tr>\n",
       "    <tr>\n",
       "      <th>green</th>\n",
       "      <td>3</td>\n",
       "      <td>3</td>\n",
       "      <td>Wisconsin uses voting machines that are outlaw...</td>\n",
       "      <td>1</td>\n",
       "    </tr>\n",
       "    <tr>\n",
       "      <th>independent</th>\n",
       "      <td>148</td>\n",
       "      <td>148</td>\n",
       "      <td>Under the federal Controlled Substance Act, ma...</td>\n",
       "      <td>1</td>\n",
       "    </tr>\n",
       "    <tr>\n",
       "      <th>journalist</th>\n",
       "      <td>38</td>\n",
       "      <td>38</td>\n",
       "      <td>No one beta-tested healthcare.gov.</td>\n",
       "      <td>1</td>\n",
       "    </tr>\n",
       "    <tr>\n",
       "      <th>labor-leader</th>\n",
       "      <td>11</td>\n",
       "      <td>11</td>\n",
       "      <td>Says gubernatorial candidate Clay Pell hasnt s...</td>\n",
       "      <td>1</td>\n",
       "    </tr>\n",
       "    <tr>\n",
       "      <th>liberal-party-canada</th>\n",
       "      <td>1</td>\n",
       "      <td>1</td>\n",
       "      <td>Young women, account for a shocking 74% of all...</td>\n",
       "      <td>1</td>\n",
       "    </tr>\n",
       "    <tr>\n",
       "      <th>libertarian</th>\n",
       "      <td>40</td>\n",
       "      <td>40</td>\n",
       "      <td>None of the polls being conducted right now ha...</td>\n",
       "      <td>1</td>\n",
       "    </tr>\n",
       "    <tr>\n",
       "      <th>newsmaker</th>\n",
       "      <td>58</td>\n",
       "      <td>58</td>\n",
       "      <td>Theres at least 7,500 addicted gamblers in Rho...</td>\n",
       "      <td>1</td>\n",
       "    </tr>\n",
       "    <tr>\n",
       "      <th>none</th>\n",
       "      <td>1746</td>\n",
       "      <td>1746</td>\n",
       "      <td>Says Israel Prime Minister Benjamin Netanyahu ...</td>\n",
       "      <td>1</td>\n",
       "    </tr>\n",
       "    <tr>\n",
       "      <th>ocean-state-tea-party-action</th>\n",
       "      <td>1</td>\n",
       "      <td>1</td>\n",
       "      <td>We came out against Deepwater and everybody is...</td>\n",
       "      <td>1</td>\n",
       "    </tr>\n",
       "    <tr>\n",
       "      <th>organization</th>\n",
       "      <td>220</td>\n",
       "      <td>220</td>\n",
       "      <td>No other Northeastern state has passed a photo...</td>\n",
       "      <td>1</td>\n",
       "    </tr>\n",
       "    <tr>\n",
       "      <th>republican</th>\n",
       "      <td>4508</td>\n",
       "      <td>4498</td>\n",
       "      <td>Four balanced budgets in a row, with no new ta...</td>\n",
       "      <td>2</td>\n",
       "    </tr>\n",
       "    <tr>\n",
       "      <th>state-official</th>\n",
       "      <td>20</td>\n",
       "      <td>20</td>\n",
       "      <td>We have to recognize that our salaries for fac...</td>\n",
       "      <td>1</td>\n",
       "    </tr>\n",
       "    <tr>\n",
       "      <th>talk-show-host</th>\n",
       "      <td>26</td>\n",
       "      <td>26</td>\n",
       "      <td>The lack of an automatic braking system that c...</td>\n",
       "      <td>1</td>\n",
       "    </tr>\n",
       "    <tr>\n",
       "      <th>tea-party-member</th>\n",
       "      <td>10</td>\n",
       "      <td>10</td>\n",
       "      <td>Says the federal government threatened to impo...</td>\n",
       "      <td>1</td>\n",
       "    </tr>\n",
       "  </tbody>\n",
       "</table>\n",
       "</div>"
      ],
      "text/plain": [
       "                             Statement         \\\n",
       "                                 count unique   \n",
       "Party Affiliation                               \n",
       "Moderate                             1      1   \n",
       "NA                                   6      6   \n",
       "activist                            40     40   \n",
       "business-leader                      9      9   \n",
       "columnist                           36     36   \n",
       "constitution-party                   1      1   \n",
       "democrat                          3342   3340   \n",
       "democratic-farmer-labor              1      1   \n",
       "education-official                   2      2   \n",
       "government-body                      1      1   \n",
       "green                                3      3   \n",
       "independent                        148    148   \n",
       "journalist                          38     38   \n",
       "labor-leader                        11     11   \n",
       "liberal-party-canada                 1      1   \n",
       "libertarian                         40     40   \n",
       "newsmaker                           58     58   \n",
       "none                              1746   1746   \n",
       "ocean-state-tea-party-action         1      1   \n",
       "organization                       220    220   \n",
       "republican                        4508   4498   \n",
       "state-official                      20     20   \n",
       "talk-show-host                      26     26   \n",
       "tea-party-member                    10     10   \n",
       "\n",
       "                                                                                 \\\n",
       "                                                                            top   \n",
       "Party Affiliation                                                                 \n",
       "Moderate                      Says Peter Kilmartin has only three years expe...   \n",
       "NA                            When you were casting your vote for Republican...   \n",
       "activist                        Every day, 34 Americans are murdered with guns.   \n",
       "business-leader               A 50-50 public-private split for paying for a ...   \n",
       "columnist                     Says 18 states and the District of Columbia ha...   \n",
       "constitution-party            Barack Obama \"openly supported (opposition lea...   \n",
       "democrat                      Six justices on the U.S. Supreme Court have be...   \n",
       "democratic-farmer-labor       Tim Pawlenty has cut education funding in Minn...   \n",
       "education-official            The Arizona State Board of Educations failure ...   \n",
       "government-body               The (New England) Patriots were led by an expl...   \n",
       "green                         Wisconsin uses voting machines that are outlaw...   \n",
       "independent                   Under the federal Controlled Substance Act, ma...   \n",
       "journalist                                   No one beta-tested healthcare.gov.   \n",
       "labor-leader                  Says gubernatorial candidate Clay Pell hasnt s...   \n",
       "liberal-party-canada          Young women, account for a shocking 74% of all...   \n",
       "libertarian                   None of the polls being conducted right now ha...   \n",
       "newsmaker                     Theres at least 7,500 addicted gamblers in Rho...   \n",
       "none                          Says Israel Prime Minister Benjamin Netanyahu ...   \n",
       "ocean-state-tea-party-action  We came out against Deepwater and everybody is...   \n",
       "organization                  No other Northeastern state has passed a photo...   \n",
       "republican                    Four balanced budgets in a row, with no new ta...   \n",
       "state-official                We have to recognize that our salaries for fac...   \n",
       "talk-show-host                The lack of an automatic braking system that c...   \n",
       "tea-party-member              Says the federal government threatened to impo...   \n",
       "\n",
       "                                   \n",
       "                             freq  \n",
       "Party Affiliation                  \n",
       "Moderate                        1  \n",
       "NA                              1  \n",
       "activist                        1  \n",
       "business-leader                 1  \n",
       "columnist                       1  \n",
       "constitution-party              1  \n",
       "democrat                        2  \n",
       "democratic-farmer-labor         1  \n",
       "education-official              1  \n",
       "government-body                 1  \n",
       "green                           1  \n",
       "independent                     1  \n",
       "journalist                      1  \n",
       "labor-leader                    1  \n",
       "liberal-party-canada            1  \n",
       "libertarian                     1  \n",
       "newsmaker                       1  \n",
       "none                            1  \n",
       "ocean-state-tea-party-action    1  \n",
       "organization                    1  \n",
       "republican                      2  \n",
       "state-official                  1  \n",
       "talk-show-host                  1  \n",
       "tea-party-member                1  "
      ]
     },
     "execution_count": 448,
     "metadata": {},
     "output_type": "execute_result"
    }
   ],
   "source": [
    "data_slice_vectorizer = data[['Statement','Party Affiliation']]\n",
    "data_slice_vectorizer.groupby('Party Affiliation').describe()"
   ]
  },
  {
   "cell_type": "markdown",
   "metadata": {},
   "source": [
    "#### Vizualization of Factor 'Party Affiliation' based on Frequency of occurence"
   ]
  },
  {
   "cell_type": "code",
   "execution_count": 449,
   "metadata": {},
   "outputs": [
    {
     "name": "stderr",
     "output_type": "stream",
     "text": [
      "C:\\ProgramData\\Anaconda3\\lib\\site-packages\\seaborn\\categorical.py:1460: FutureWarning: remove_na is deprecated and is a private function. Do not use.\n",
      "  stat_data = remove_na(group_data)\n"
     ]
    },
    {
     "data": {
      "image/png": "[encoded data removed]",
      "text/plain": [
       "<matplotlib.figure.Figure at 0x20a34407518>"
      ]
     },
     "metadata": {},
     "output_type": "display_data"
    }
   ],
   "source": [
    "count_affiliation = data_slice_vectorizer['Party Affiliation'].value_counts()\n",
    "\n",
    "plt.figure(figsize=(12,4))\n",
    "sns.barplot(count_affiliation.index, count_affiliation.values, alpha=0.8)\n",
    "plt.ylabel('Number of Occurrences', fontsize=12)\n",
    "plt.xlabel('Party Affiliation', fontsize=12)\n",
    "plt.xticks(rotation=90)\n",
    "plt.show();"
   ]
  },
  {
   "cell_type": "markdown",
   "metadata": {},
   "source": [
    "#### Splitting the data into Training and Testing Data"
   ]
  },
  {
   "cell_type": "code",
   "execution_count": 450,
   "metadata": {},
   "outputs": [],
   "source": [
    "from sklearn.model_selection import train_test_split\n",
    "\n",
    "X_train, X_test, y_train, y_test = train_test_split(data_slice_vectorizer['Statement'], data_slice_vectorizer['Party Affiliation'], random_state = 0)"
   ]
  },
  {
   "cell_type": "markdown",
   "metadata": {},
   "source": [
    "#### Visualizing features of a particular document"
   ]
  },
  {
   "cell_type": "code",
   "execution_count": 451,
   "metadata": {},
   "outputs": [
    {
     "name": "stdout",
     "output_type": "stream",
     "text": [
      "X_train first entry: \n",
      "\n",
      " Says the Annies List political group supports third-trimester abortions on demand.\n",
      "\n",
      "\n",
      "X_train shape:  (7701,)\n"
     ]
    }
   ],
   "source": [
    "print('X_train first entry: \\n\\n', X_train[0])\n",
    "print('\\n\\nX_train shape: ', X_train.shape)"
   ]
  },
  {
   "cell_type": "markdown",
   "metadata": {},
   "source": [
    "#### Creation of TF-IDF Vectorizer"
   ]
  },
  {
   "cell_type": "code",
   "execution_count": 453,
   "metadata": {},
   "outputs": [
    {
     "data": {
      "text/plain": [
       "2842"
      ]
     },
     "execution_count": 453,
     "metadata": {},
     "output_type": "execute_result"
    }
   ],
   "source": [
    "from sklearn.feature_extraction.text import TfidfVectorizer\n",
    "\n",
    "vect = TfidfVectorizer(min_df = 5).fit(X_train)\n",
    "len(vect.get_feature_names())"
   ]
  },
  {
   "cell_type": "markdown",
   "metadata": {},
   "source": [
    "#### Creation of a document-term matrix to identify individual documents by feature"
   ]
  },
  {
   "cell_type": "code",
   "execution_count": 454,
   "metadata": {},
   "outputs": [],
   "source": [
    "X_train_vectorized = vect.transform(X_train)"
   ]
  },
  {
   "cell_type": "markdown",
   "metadata": {},
   "source": [
    "#### Feature Extraction and Visualization of coefficients after application of TF-IDF"
   ]
  },
  {
   "cell_type": "code",
   "execution_count": 455,
   "metadata": {},
   "outputs": [
    {
     "name": "stdout",
     "output_type": "stream",
     "text": [
      "Smallest Tfidf: \n",
      "['compare' 'short' 'residency' 'depend' 'so' 'though' 'patrol' 'further'\n",
      " 'decreased' 'stage']\n",
      "\n",
      "Largest Tfidf: \n",
      "['was' 'on' 'don' 'non' 'torture' 'parties' 'fraud' 'smaller' 'nra'\n",
      " 'florida']\n",
      "\n"
     ]
    }
   ],
   "source": [
    "feature_names = np.array(vect.get_feature_names())\n",
    "\n",
    "sorted_tfidf_index = X_train_vectorized.max(0).toarray()[0].argsort()\n",
    "\n",
    "print('Smallest Tfidf: \\n{}\\n'.format(feature_names[sorted_tfidf_index[:10]]))\n",
    "print('Largest Tfidf: \\n{}\\n'.format(feature_names[sorted_tfidf_index[:-11:-1]]))"
   ]
  },
  {
   "cell_type": "markdown",
   "metadata": {},
   "source": [
    "#### Applying Random Forest Classifier on Vectorized Data"
   ]
  },
  {
   "cell_type": "code",
   "execution_count": 456,
   "metadata": {},
   "outputs": [],
   "source": [
    "from sklearn.ensemble import RandomForestClassifier\n",
    "from sklearn.metrics import accuracy_score\n",
    "from sklearn.metrics import confusion_matrix"
   ]
  },
  {
   "cell_type": "code",
   "execution_count": 457,
   "metadata": {},
   "outputs": [],
   "source": [
    "rclf = RandomForestClassifier()"
   ]
  },
  {
   "cell_type": "code",
   "execution_count": 458,
   "metadata": {},
   "outputs": [
    {
     "data": {
      "text/plain": [
       "RandomForestClassifier(bootstrap=True, class_weight=None, criterion='gini',\n",
       "            max_depth=None, max_features='auto', max_leaf_nodes=None,\n",
       "            min_impurity_decrease=0.0, min_impurity_split=None,\n",
       "            min_samples_leaf=1, min_samples_split=2,\n",
       "            min_weight_fraction_leaf=0.0, n_estimators=10, n_jobs=1,\n",
       "            oob_score=False, random_state=None, verbose=0,\n",
       "            warm_start=False)"
      ]
     },
     "execution_count": 458,
     "metadata": {},
     "output_type": "execute_result"
    }
   ],
   "source": [
    "rclf.fit(X_train_vectorized,y_train)"
   ]
  },
  {
   "cell_type": "markdown",
   "metadata": {},
   "source": [
    "#### Calculating Accuracy of the model"
   ]
  },
  {
   "cell_type": "code",
   "execution_count": 459,
   "metadata": {},
   "outputs": [
    {
     "name": "stdout",
     "output_type": "stream",
     "text": [
      "0.46417445482866043\n"
     ]
    }
   ],
   "source": [
    "predictions = rclf.predict(vect.transform(X_test))\n",
    "print(accuracy_score(y_test,predictions))"
   ]
  }
 ],
 "metadata": {
  "kernelspec": {
   "display_name": "Python 3",
   "language": "python",
   "name": "python3"
  },
  "language_info": {
   "codemirror_mode": {
    "name": "ipython",
    "version": 3
   },
   "file_extension": ".py",
   "mimetype": "text/x-python",
   "name": "python",
   "nbconvert_exporter": "python",
   "pygments_lexer": "ipython3",
   "version": "3.6.3"
  }
 },
 "nbformat": 4,
 "nbformat_minor": 2
}
